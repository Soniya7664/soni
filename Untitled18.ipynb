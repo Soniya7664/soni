{
  "nbformat": 4,
  "nbformat_minor": 0,
  "metadata": {
    "colab": {
      "provenance": [],
      "authorship_tag": "ABX9TyO3+gq6MAndKqeUEiIkZ5qz",
      "include_colab_link": true
    },
    "kernelspec": {
      "name": "python3",
      "display_name": "Python 3"
    },
    "language_info": {
      "name": "python"
    }
  },
  "cells": [
    {
      "cell_type": "markdown",
      "metadata": {
        "id": "view-in-github",
        "colab_type": "text"
      },
      "source": [
        "<a href=\"https://colab.research.google.com/github/Soniya7664/soni/blob/main/Untitled18.ipynb\" target=\"_parent\"><img src=\"https://colab.research.google.com/assets/colab-badge.svg\" alt=\"Open In Colab\"/></a>"
      ]
    },
    {
      "cell_type": "code",
      "execution_count": 1,
      "metadata": {
        "colab": {
          "base_uri": "https://localhost:8080/"
        },
        "id": "nDFy2NFVo3EQ",
        "outputId": "1813689a-bfdb-4aa6-fc1f-f242b2f89c50"
      },
      "outputs": [
        {
          "output_type": "stream",
          "name": "stdout",
          "text": [
            "[[8, 0], [0, 0]]\n",
            "[[8, 8], [0, 0]]\n",
            "[[8, 8], [7, 0]]\n",
            "[[8, 8], [7, 13]]\n"
          ]
        }
      ],
      "source": [
        "matrix1=[1,2],[3,4]\n",
        "matrix2=[7,6],[4,9]\n",
        "result=[[0 for _ in range(len(matrix1[0]))] for _ in range(len(matrix1[0]))]\n",
        "for i in range(len(matrix1)):\n",
        "  for j in range(len(matrix1[0])):\n",
        "    result[i][j] = matrix1[i][j] + matrix2[i][j]\n",
        "    print(result)"
      ]
    }
  ]
}