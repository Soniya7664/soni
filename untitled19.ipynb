{
  "nbformat": 4,
  "nbformat_minor": 0,
  "metadata": {
    "colab": {
      "provenance": [],
      "authorship_tag": "ABX9TyMW3HvFHrwA/dBaxBlyQ8to",
      "include_colab_link": true
    },
    "kernelspec": {
      "name": "python3",
      "display_name": "Python 3"
    },
    "language_info": {
      "name": "python"
    }
  },
  "cells": [
    {
      "cell_type": "markdown",
      "metadata": {
        "id": "view-in-github",
        "colab_type": "text"
      },
      "source": [
        "<a href=\"https://colab.research.google.com/github/Soniya7664/soni/blob/main/untitled19.ipynb\" target=\"_parent\"><img src=\"https://colab.research.google.com/assets/colab-badge.svg\" alt=\"Open In Colab\"/></a>"
      ]
    },
    {
      "cell_type": "code",
      "execution_count": null,
      "metadata": {
        "colab": {
          "base_uri": "https://localhost:8080/"
        },
        "id": "3EVQm9BCbzVX",
        "outputId": "38938a11-3dd9-47e3-db44-6b9c98d25f20"
      },
      "outputs": [
        {
          "output_type": "stream",
          "name": "stdout",
          "text": [
            "Epoch 1/50\n",
            "200/200 [==============================] - 1s 3ms/step - loss: 3667.9155 - val_loss: 638.5779\n",
            "Epoch 2/50\n",
            "200/200 [==============================] - 0s 2ms/step - loss: 205.8930 - val_loss: 98.3282\n",
            "Epoch 3/50\n",
            "200/200 [==============================] - 0s 2ms/step - loss: 59.4610 - val_loss: 39.3599\n",
            "Epoch 4/50\n",
            "200/200 [==============================] - 0s 2ms/step - loss: 23.1596 - val_loss: 14.9498\n",
            "Epoch 5/50\n",
            "200/200 [==============================] - 0s 2ms/step - loss: 8.7765 - val_loss: 6.0157\n",
            "Epoch 6/50\n",
            "200/200 [==============================] - 0s 2ms/step - loss: 3.8861 - val_loss: 3.0295\n",
            "Epoch 7/50\n",
            "200/200 [==============================] - 1s 3ms/step - loss: 2.1814 - val_loss: 1.8051\n",
            "Epoch 8/50\n",
            "200/200 [==============================] - 1s 3ms/step - loss: 1.3378 - val_loss: 1.0871\n",
            "Epoch 9/50\n",
            "200/200 [==============================] - 1s 3ms/step - loss: 0.8120 - val_loss: 0.6562\n",
            "Epoch 10/50\n",
            "200/200 [==============================] - 1s 3ms/step - loss: 0.4886 - val_loss: 0.3971\n",
            "Epoch 11/50\n",
            "200/200 [==============================] - 1s 3ms/step - loss: 0.3008 - val_loss: 0.2515\n",
            "Epoch 12/50\n",
            "200/200 [==============================] - 1s 3ms/step - loss: 0.1997 - val_loss: 0.1766\n",
            "Epoch 13/50\n",
            "200/200 [==============================] - 1s 3ms/step - loss: 0.1484 - val_loss: 0.1385\n",
            "Epoch 14/50\n",
            "200/200 [==============================] - 1s 3ms/step - loss: 0.1229 - val_loss: 0.1192\n",
            "Epoch 15/50\n",
            "200/200 [==============================] - 0s 2ms/step - loss: 0.1092 - val_loss: 0.1078\n",
            "Epoch 16/50\n",
            "200/200 [==============================] - 0s 2ms/step - loss: 0.1009 - val_loss: 0.1005\n",
            "Epoch 17/50\n",
            "200/200 [==============================] - 0s 2ms/step - loss: 0.0946 - val_loss: 0.0944\n",
            "Epoch 18/50\n",
            "200/200 [==============================] - 0s 2ms/step - loss: 0.0892 - val_loss: 0.0884\n",
            "Epoch 19/50\n",
            "200/200 [==============================] - 0s 2ms/step - loss: 0.0840 - val_loss: 0.0827\n",
            "Epoch 20/50\n",
            "200/200 [==============================] - 0s 2ms/step - loss: 0.0788 - val_loss: 0.0774\n",
            "Epoch 21/50\n",
            "200/200 [==============================] - 0s 2ms/step - loss: 0.0732 - val_loss: 0.0714\n",
            "Epoch 22/50\n",
            "200/200 [==============================] - 0s 2ms/step - loss: 0.0678 - val_loss: 0.0658\n",
            "Epoch 23/50\n",
            "200/200 [==============================] - 0s 2ms/step - loss: 0.0622 - val_loss: 0.0603\n",
            "Epoch 24/50\n",
            "200/200 [==============================] - 0s 2ms/step - loss: 0.0566 - val_loss: 0.0543\n",
            "Epoch 25/50\n",
            "200/200 [==============================] - 0s 2ms/step - loss: 0.0511 - val_loss: 0.0484\n",
            "Epoch 26/50\n",
            "200/200 [==============================] - 0s 2ms/step - loss: 0.0454 - val_loss: 0.0429\n",
            "Epoch 27/50\n",
            "200/200 [==============================] - 0s 2ms/step - loss: 0.0400 - val_loss: 0.0374\n",
            "Epoch 28/50\n",
            "200/200 [==============================] - 0s 2ms/step - loss: 0.0350 - val_loss: 0.0326\n",
            "Epoch 29/50\n",
            "200/200 [==============================] - 0s 2ms/step - loss: 0.0300 - val_loss: 0.0275\n",
            "Epoch 30/50\n",
            "200/200 [==============================] - 0s 2ms/step - loss: 0.0253 - val_loss: 0.0231\n",
            "Epoch 31/50\n",
            "200/200 [==============================] - 0s 2ms/step - loss: 0.0212 - val_loss: 0.0190\n",
            "Epoch 32/50\n",
            "200/200 [==============================] - 0s 2ms/step - loss: 0.0174 - val_loss: 0.0154\n",
            "Epoch 33/50\n",
            "200/200 [==============================] - 0s 2ms/step - loss: 0.0140 - val_loss: 0.0126\n",
            "Epoch 34/50\n",
            "200/200 [==============================] - 0s 2ms/step - loss: 0.0111 - val_loss: 0.0108\n",
            "Epoch 35/50\n",
            "200/200 [==============================] - 0s 2ms/step - loss: 0.0087 - val_loss: 0.0073\n",
            "Epoch 36/50\n",
            "200/200 [==============================] - 0s 2ms/step - loss: 0.0066 - val_loss: 0.0056\n",
            "Epoch 37/50\n",
            "200/200 [==============================] - 0s 2ms/step - loss: 0.0051 - val_loss: 0.0042\n",
            "Epoch 38/50\n",
            "200/200 [==============================] - 1s 3ms/step - loss: 0.0039 - val_loss: 0.0035\n",
            "Epoch 39/50\n",
            "200/200 [==============================] - 1s 3ms/step - loss: 0.0030 - val_loss: 0.0026\n",
            "Epoch 40/50\n",
            "200/200 [==============================] - 1s 3ms/step - loss: 0.0023 - val_loss: 0.0018\n",
            "Epoch 41/50\n",
            "200/200 [==============================] - 1s 3ms/step - loss: 0.0018 - val_loss: 0.0014\n",
            "Epoch 42/50\n",
            "200/200 [==============================] - 1s 4ms/step - loss: 0.0015 - val_loss: 0.0011\n",
            "Epoch 43/50\n",
            "200/200 [==============================] - 1s 3ms/step - loss: 0.0013 - val_loss: 9.2741e-04\n",
            "Epoch 44/50\n",
            "200/200 [==============================] - 0s 2ms/step - loss: 0.0011 - val_loss: 6.5604e-04\n",
            "Epoch 45/50\n",
            "200/200 [==============================] - 0s 2ms/step - loss: 9.5018e-04 - val_loss: 8.1748e-04\n",
            "Epoch 46/50\n",
            "200/200 [==============================] - 0s 2ms/step - loss: 8.4236e-04 - val_loss: 6.8950e-04\n",
            "Epoch 47/50\n",
            "200/200 [==============================] - 0s 2ms/step - loss: 7.8051e-04 - val_loss: 3.4316e-04\n",
            "Epoch 48/50\n",
            "200/200 [==============================] - 0s 2ms/step - loss: 6.0170e-04 - val_loss: 3.1946e-04\n",
            "Epoch 49/50\n",
            "200/200 [==============================] - 0s 2ms/step - loss: 5.2350e-04 - val_loss: 2.0933e-04\n",
            "Epoch 50/50\n",
            "200/200 [==============================] - 0s 2ms/step - loss: 4.2060e-04 - val_loss: 2.2949e-04\n",
            "63/63 [==============================] - 0s 2ms/step - loss: 3.6330e-04\n",
            "Test Loss: 0.00036329939030110836\n",
            "1/1 [==============================] - 0s 85ms/step\n",
            "Predicted Sum: 68.02838134765625\n"
          ]
        }
      ],
      "source": [
        "import numpy as np\n",
        "from tensorflow.keras.models import Sequential\n",
        "from tensorflow.keras.layers import Dense\n",
        "from sklearn.model_selection import train_test_split\n",
        "\n",
        "# Step 1: Generate Training Data\n",
        "def generate_data(num_samples):\n",
        "    x1 = np.random.randint(0, 100, size=num_samples)\n",
        "    x2 = np.random.randint(0, 100, size=num_samples)\n",
        "    y = x1 + x2\n",
        "    return np.vstack((x1, x2)).T, y\n",
        "\n",
        "num_samples = 10000\n",
        "X, y = generate_data(num_samples)\n",
        "\n",
        "# Split the data into training and testing sets\n",
        "X_train, X_test, y_train, y_test = train_test_split(X, y, test_size=0.2, random_state=42)\n",
        "\n",
        "# Step 2: Define the Model\n",
        "model = Sequential()\n",
        "model.add(Dense(10, input_dim=2, activation='relu'))  # Input layer with 2 inputs\n",
        "model.add(Dense(5, activation='relu'))  # Hidden layer\n",
        "model.add(Dense(1))  # Output layer\n",
        "\n",
        "# Step 3: Compile the Model\n",
        "model.compile(optimizer='adam', loss='mean_squared_error')\n",
        "\n",
        "# Step 4: Train the Model\n",
        "model.fit(X_train, y_train, epochs=50, batch_size=32, validation_split=0.2)\n",
        "\n",
        "# Step 5: Evaluate the Model\n",
        "loss = model.evaluate(X_test, y_test)\n",
        "print(f'Test Loss: {loss}')\n",
        "\n",
        "# Make a prediction\n",
        "sample_input = np.array([[23, 45]])  # Example input\n",
        "predicted_sum = model.predict(sample_input)\n",
        "print(f'Predicted Sum: {predicted_sum[0][0]}')\n"
      ]
    },
    {
      "cell_type": "code",
      "source": [
        "import numpy as np\n",
        "from tensorflow.keras.models import Sequential\n",
        "from tensorflow.keras.layers import Dense\n",
        "from sklearn.model_selection import train_test_split\n",
        "\n",
        "# Step 1: Generate Training Data\n",
        "def generate_data(num_samples):\n",
        "    x1 = np.random.randint(0, 100, size=num_samples)\n",
        "    x2 = np.random.randint(0, 100, size=num_samples)\n",
        "    y = x1 + x2\n",
        "    return np.vstack((x1, x2)).T, y\n",
        "\n",
        "num_samples = 10000\n",
        "X, y = generate_data(num_samples)\n",
        "\n",
        "# Split the data into training and testing sets\n",
        "X_train, X_test, y_train, y_test = train_test_split(X, y, test_size=0.2, random_state=42)\n",
        "\n",
        "# Step 2: Define the Model\n",
        "model = Sequential()\n",
        "model.add(Dense(10, input_dim=2, activation='relu'))  # Input layer with 2 inputs\n",
        "model.add(Dense(5, activation='relu'))  # Hidden layer\n",
        "model.add(Dense(1))  # Output layer\n",
        "\n",
        "# Step 3: Compile the Model\n",
        "model.compile(optimizer='adam', loss='mean_squared_error')\n",
        "\n",
        "# Step 4: Train the Model\n",
        "model.fit(X_train, y_train, epochs=5, batch_size=64, validation_split=0.2)\n",
        "\n",
        "# Step 5: Evaluate the Model\n",
        "loss = model.evaluate(X_test, y_test)\n",
        "print(f'Test Loss: {loss}')\n",
        "\n",
        "# Make a prediction\n",
        "sample_input = np.array([[23, 45]])  # Example input\n",
        "predicted_sum = model.predict(sample_input)\n",
        "print(f'Predicted Sum: {predicted_sum[0][0]}')\n"
      ],
      "metadata": {
        "colab": {
          "base_uri": "https://localhost:8080/"
        },
        "id": "bFH07FwdcW07",
        "outputId": "bb298f63-8457-414b-941d-19d63f7158a3"
      },
      "execution_count": null,
      "outputs": [
        {
          "output_type": "stream",
          "name": "stdout",
          "text": [
            "Epoch 1/5\n",
            "100/100 [==============================] - 1s 3ms/step - loss: 6475.4355 - val_loss: 3762.1865\n",
            "Epoch 2/5\n",
            "100/100 [==============================] - 0s 2ms/step - loss: 1670.3782 - val_loss: 308.5985\n",
            "Epoch 3/5\n",
            "100/100 [==============================] - 0s 2ms/step - loss: 146.7072 - val_loss: 98.8589\n",
            "Epoch 4/5\n",
            "100/100 [==============================] - 0s 4ms/step - loss: 72.1332 - val_loss: 55.1054\n",
            "Epoch 5/5\n",
            "100/100 [==============================] - 0s 3ms/step - loss: 33.3744 - val_loss: 16.0670\n",
            "63/63 [==============================] - 0s 1ms/step - loss: 15.1144\n",
            "Test Loss: 15.114437103271484\n",
            "1/1 [==============================] - 0s 60ms/step\n",
            "Predicted Sum: 69.58771514892578\n"
          ]
        }
      ]
    },
    {
      "cell_type": "code",
      "source": [
        "import numpy as np\n",
        "from tensorflow.keras.models import Sequential\n",
        "from tensorflow.keras.layers import Dense\n",
        "from sklearn.model_selection import train_test_split\n",
        "\n",
        "# Step 1: Generate Training Data\n",
        "def generate_data(num_samples):\n",
        "    x1 = np.random.randint(0, 100, size=num_samples)\n",
        "    x2 = np.random.randint(0, 100, size=num_samples)\n",
        "    y = x1 + x2\n",
        "    return np.vstack((x1, x2)).T, y\n",
        "\n",
        "num_samples = 10000\n",
        "X, y = generate_data(num_samples)\n",
        "\n",
        "# Split the data into training and testing sets\n",
        "X_train, X_test, y_train, y_test = train_test_split(X, y, test_size=0.2, random_state=42)\n",
        "\n",
        "# Step 2: Define the Model\n",
        "model = Sequential()\n",
        "model.add(Dense(10, input_dim=2, activation='relu'))  # Input layer with 2 inputs\n",
        "model.add(Dense(5, activation='relu'))  # Hidden layer\n",
        "model.add(Dense(1))  # Output layer\n",
        "\n",
        "# Step 3: Compile the Model\n",
        "model.compile(optimizer='adam', loss='mean_squared_error')\n",
        "\n",
        "# Step 4: Train the Model\n",
        "model.fit(X_train, y_train, epochs=10, batch_size=124, validation_split=0.2)\n",
        "\n",
        "# Step 5: Evaluate the Model\n",
        "loss = model.evaluate(X_test, y_test)\n",
        "print(f'Test Loss: {loss}')\n",
        "\n",
        "# Make a prediction\n",
        "sample_input = np.array([[23, 45]])  # Example input\n",
        "predicted_sum = model.predict(sample_input)\n",
        "print(f'Predicted Sum: {predicted_sum[0][0]}')\n"
      ],
      "metadata": {
        "colab": {
          "base_uri": "https://localhost:8080/"
        },
        "id": "Lr3hp-FqdR08",
        "outputId": "5bfb9fa7-f2d0-4a11-ca75-744a7b0df46d"
      },
      "execution_count": null,
      "outputs": [
        {
          "output_type": "stream",
          "name": "stdout",
          "text": [
            "Epoch 1/10\n",
            "52/52 [==============================] - 1s 5ms/step - loss: 7848.0200 - val_loss: 6616.0024\n",
            "Epoch 2/10\n",
            "52/52 [==============================] - 0s 3ms/step - loss: 5276.6631 - val_loss: 3902.0701\n",
            "Epoch 3/10\n",
            "52/52 [==============================] - 0s 3ms/step - loss: 2587.8357 - val_loss: 1363.4365\n",
            "Epoch 4/10\n",
            "52/52 [==============================] - 0s 9ms/step - loss: 651.8932 - val_loss: 213.5613\n",
            "Epoch 5/10\n",
            "52/52 [==============================] - 0s 3ms/step - loss: 103.2638 - val_loss: 69.7159\n",
            "Epoch 6/10\n",
            "52/52 [==============================] - 0s 2ms/step - loss: 48.4322 - val_loss: 42.8065\n",
            "Epoch 7/10\n",
            "52/52 [==============================] - 0s 3ms/step - loss: 30.3048 - val_loss: 28.4052\n",
            "Epoch 8/10\n",
            "52/52 [==============================] - 0s 2ms/step - loss: 20.8117 - val_loss: 20.4154\n",
            "Epoch 9/10\n",
            "52/52 [==============================] - 0s 3ms/step - loss: 15.4956 - val_loss: 15.6403\n",
            "Epoch 10/10\n",
            "52/52 [==============================] - 0s 3ms/step - loss: 12.2163 - val_loss: 12.5325\n",
            "63/63 [==============================] - 0s 1ms/step - loss: 11.8148\n"
          ]
        },
        {
          "output_type": "stream",
          "name": "stderr",
          "text": [
            "WARNING:tensorflow:5 out of the last 5 calls to <function Model.make_predict_function.<locals>.predict_function at 0x7f8bd9042170> triggered tf.function retracing. Tracing is expensive and the excessive number of tracings could be due to (1) creating @tf.function repeatedly in a loop, (2) passing tensors with different shapes, (3) passing Python objects instead of tensors. For (1), please define your @tf.function outside of the loop. For (2), @tf.function has reduce_retracing=True option that can avoid unnecessary retracing. For (3), please refer to https://www.tensorflow.org/guide/function#controlling_retracing and https://www.tensorflow.org/api_docs/python/tf/function for  more details.\n"
          ]
        },
        {
          "output_type": "stream",
          "name": "stdout",
          "text": [
            "Test Loss: 11.814837455749512\n",
            "1/1 [==============================] - 0s 59ms/step\n",
            "Predicted Sum: 66.990234375\n"
          ]
        }
      ]
    },
    {
      "cell_type": "code",
      "source": [
        "import numpy as np\n",
        "from tensorflow.keras.models import Sequential\n",
        "from tensorflow.keras.layers import Dense\n",
        "from sklearn.model_selection import train_test_split\n",
        "\n",
        "# Step 1: Generate Training Data\n",
        "def generate_data(num_samples):\n",
        "    x1 = np.random.randint(0, 100, size=num_samples)\n",
        "    x2 = np.random.randint(0, 100, size=num_samples)\n",
        "    y = x1 + x2\n",
        "    return np.vstack((x1, x2)).T, y\n",
        "\n",
        "num_samples = 10000\n",
        "X, y = generate_data(num_samples)\n",
        "\n",
        "# Split the data into training and testing sets\n",
        "X_train, X_test, y_train, y_test = train_test_split(X, y, test_size=0.2, random_state=42)\n",
        "\n",
        "# Step 2: Define the Model\n",
        "model = Sequential()\n",
        "model.add(Dense(10, input_dim=2, activation='relu'))  # Input layer with 2 inputs\n",
        "model.add(Dense(5, activation='relu'))  # Hidden layer\n",
        "model.add(Dense(1))  # Output layer\n",
        "\n",
        "# Step 3: Compile the Model\n",
        "model.compile(optimizer='adam', loss='mean_squared_error')\n",
        "\n",
        "# Step 4: Train the Model\n",
        "model.fit(X_train, y_train, epochs=5, batch_size=64, validation_split=0.3)\n",
        "\n",
        "# Step 5: Evaluate the Model\n",
        "loss = model.evaluate(X_test, y_test)\n",
        "print(f'Test Loss: {loss}')\n",
        "\n",
        "# Make a prediction\n",
        "sample_input = np.array([[23, 45]])  # Example input\n",
        "predicted_sum = model.predict(sample_input)\n",
        "print(f'Predicted Sum: {predicted_sum[0][0]}')\n"
      ],
      "metadata": {
        "colab": {
          "base_uri": "https://localhost:8080/"
        },
        "id": "IVRL0FNpdyCr",
        "outputId": "97fd514a-dde6-4e43-eb1e-f9a0229a671e"
      },
      "execution_count": null,
      "outputs": [
        {
          "output_type": "stream",
          "name": "stdout",
          "text": [
            "Epoch 1/5\n",
            "88/88 [==============================] - 1s 4ms/step - loss: 11320.4219 - val_loss: 10619.5283\n",
            "Epoch 2/5\n",
            "88/88 [==============================] - 0s 3ms/step - loss: 9441.6328 - val_loss: 7420.9985\n",
            "Epoch 3/5\n",
            "88/88 [==============================] - 0s 3ms/step - loss: 4750.6470 - val_loss: 1812.9279\n",
            "Epoch 4/5\n",
            "88/88 [==============================] - 0s 2ms/step - loss: 551.3690 - val_loss: 25.8398\n",
            "Epoch 5/5\n",
            "88/88 [==============================] - 0s 3ms/step - loss: 11.1331 - val_loss: 7.1784\n",
            "63/63 [==============================] - 0s 2ms/step - loss: 7.5098\n",
            "Test Loss: 7.509802341461182\n"
          ]
        },
        {
          "output_type": "stream",
          "name": "stderr",
          "text": [
            "WARNING:tensorflow:6 out of the last 6 calls to <function Model.make_predict_function.<locals>.predict_function at 0x7f8bd5b02ef0> triggered tf.function retracing. Tracing is expensive and the excessive number of tracings could be due to (1) creating @tf.function repeatedly in a loop, (2) passing tensors with different shapes, (3) passing Python objects instead of tensors. For (1), please define your @tf.function outside of the loop. For (2), @tf.function has reduce_retracing=True option that can avoid unnecessary retracing. For (3), please refer to https://www.tensorflow.org/guide/function#controlling_retracing and https://www.tensorflow.org/api_docs/python/tf/function for  more details.\n"
          ]
        },
        {
          "output_type": "stream",
          "name": "stdout",
          "text": [
            "1/1 [==============================] - 0s 79ms/step\n",
            "Predicted Sum: 69.8706283569336\n"
          ]
        }
      ]
    }
  ]
}